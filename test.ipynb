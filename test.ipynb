{
 "cells": [
  {
   "cell_type": "code",
   "execution_count": 1,
   "metadata": {},
   "outputs": [],
   "source": [
    "\n",
    "import sys, os\n",
    "from sippy import *\n",
    "import numpy as np\n",
    "from sippy import functionset as fset\n",
    "from sippy import functionsetSIM as fsetSIM\n",
    "import matplotlib.pyplot as plt\n",
    "import pandas as pd\n",
    "import control as cnt\n",
    "\n"
   ]
  },
  {
   "cell_type": "code",
   "execution_count": 2,
   "metadata": {},
   "outputs": [
    {
     "name": "stdout",
     "output_type": "stream",
     "text": [
      "Transfer function G(z):\n",
      "\n",
      "       0.4984 z\n",
      "-----------------------\n",
      "z^2 - 0.8047 z + 0.1915\n",
      "\n",
      "dt = 1.0\n",
      "\n"
     ]
    }
   ],
   "source": [
    "N = 1000  \n",
    "input_ident = np.random.randn(N)  \n",
    "Y_ident = np.zeros(N)\n",
    "\n",
    "# Generate linear output\n",
    "for t in range(3, N):\n",
    "    Y_ident[t] = 0.8*Y_ident[t-1] - 0.2*Y_ident[t-2] + 0.5*input_ident[t-1] + 0.1*np.random.randn()\n",
    "\n",
    "na_ords = [2]         \n",
    "nb_ords = [[1]]       \n",
    "theta = [[0]] \n",
    "\n",
    "id_ARX = system_identification(Y_ident, input_ident, 'ARX',\n",
    "                             ARX_orders=[na_ords, nb_ords, theta],\n",
    "                             centering='MeanVal')\n",
    "\n",
    "# Get coefficients:\n",
    "ar_coeffs = id_ARX.DENOMINATOR  # A(z) coefficients\n",
    "x_coeffs = id_ARX.NUMERATOR     # B(z) coefficients\n",
    "\n",
    "# 2. Access transfer function\n",
    "G = id_ARX.G  # Get full transfer function\n",
    "\n",
    "# 3. Print complete model\n",
    "print(\"Transfer function G(z):\")\n",
    "print(id_ARX.G)\n",
    "\n",
    "# If you want individual coefficients, you can also get them from\n",
    "# the transfer function numerator and denominator:\n",
    "num = id_ARX.NUMERATOR\n",
    "den = id_ARX.DENOMINATOR\n"
   ]
  },
  {
   "cell_type": "code",
   "execution_count": null,
   "metadata": {},
   "outputs": [],
   "source": []
  }
 ],
 "metadata": {
  "kernelspec": {
   "display_name": "sys_id",
   "language": "python",
   "name": "python3"
  },
  "language_info": {
   "codemirror_mode": {
    "name": "ipython",
    "version": 3
   },
   "file_extension": ".py",
   "mimetype": "text/x-python",
   "name": "python",
   "nbconvert_exporter": "python",
   "pygments_lexer": "ipython3",
   "version": "3.9.21"
  }
 },
 "nbformat": 4,
 "nbformat_minor": 2
}
